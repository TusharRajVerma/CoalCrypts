{
 "cells": [
  {
   "cell_type": "code",
   "execution_count": 1,
   "metadata": {},
   "outputs": [],
   "source": [
    "import mysql.connector"
   ]
  },
  {
   "cell_type": "code",
   "execution_count": 4,
   "metadata": {},
   "outputs": [
    {
     "name": "stdout",
     "output_type": "stream",
     "text": [
      "Connected to mysql db\n",
      "('XzPvdqkpq6G5Itc2U28s4IFdE0GVN1EY', '7VoGh2LzFM3kePGXsBOzRMRN4/psnna1sLsf2A==', '79b63f40d1dcee396298051c4c911b51a0870934b16f6dd6aa090669fc998465')\n"
     ]
    }
   ],
   "source": [
    "con = mysql.connector.connect(host = \"localhost\" , database = \"Mongo\" , user = \"root\" , password = \"srishti@12345\")\n",
    "\n",
    "if con.is_connected():\n",
    "    print(\"Connected to mysql db\")\n",
    "    \n",
    "cursor = con.cursor(buffered=True)\n",
    "\n",
    "#cursor.execute('SELECT * FROM coal')\n",
    "cursor.execute('SELECT * FROM coal WHERE hash_func=\"79b63f40d1dcee396298051c4c911b51a0870934b16f6dd6aa090669fc998465\"')\n",
    "\n",
    "row = cursor.fetchone()\n",
    "while row is not None:\n",
    "    print (row)\n",
    "    row = cursor.fetchone()\n",
    "    \n",
    "\n",
    "cursor.close()    \n",
    "con.close()"
   ]
  },
  {
   "cell_type": "code",
   "execution_count": null,
   "metadata": {},
   "outputs": [],
   "source": []
  },
  {
   "cell_type": "code",
   "execution_count": null,
   "metadata": {},
   "outputs": [],
   "source": []
  }
 ],
 "metadata": {
  "kernelspec": {
   "display_name": "Python 3",
   "language": "python",
   "name": "python3"
  },
  "language_info": {
   "codemirror_mode": {
    "name": "ipython",
    "version": 3
   },
   "file_extension": ".py",
   "mimetype": "text/x-python",
   "name": "python",
   "nbconvert_exporter": "python",
   "pygments_lexer": "ipython3",
   "version": "3.6.5"
  }
 },
 "nbformat": 4,
 "nbformat_minor": 2
}
