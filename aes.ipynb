{
 "cells": [
  {
   "cell_type": "code",
   "execution_count": 1,
   "metadata": {},
   "outputs": [],
   "source": [
    "import os, random, base64\n",
    "from cryptography.hazmat.primitives.ciphers import Cipher, algorithms, modes\n",
    "from cryptography.hazmat.backends import default_backend\n"
   ]
  },
  {
   "cell_type": "code",
   "execution_count": 2,
   "metadata": {},
   "outputs": [],
   "source": [
    "\n",
    "class AES256CBC:\n",
    "  _block_size = 16\n",
    "  _backend = default_backend()\n",
    "\n",
    "  @staticmethod\n",
    "  def encrypt(txt, password):\n",
    "    '''\n",
    "    Return encrypted string via AES-256CBC or None if failed.\n",
    "    Automatically generates and puts a random IV at first 16 chars.\n",
    "    The password must be exactly 32 chars long for AES-256.\n",
    "    '''\n",
    "    iv = AES256CBC._random_text(AES256CBC._block_size)\n",
    "    \n",
    "    cipher = Cipher(algorithms.AES(password), modes.CBC(iv), backend=AES256CBC._backend)\n",
    "    encryptor = cipher.encryptor()\n",
    "\n",
    "    formated_txt = AES256CBC._add_padding(txt)\n",
    "    encrypted = encryptor.update(formated_txt) + encryptor.finalize()\n",
    "    return iv + base64.b64encode(encrypted)\n",
    "\n",
    "  @staticmethod\n",
    "  def decrypt(txt, password):\n",
    "    '''\n",
    "    Return decrypted string via AES-256CBC or None if failed.\n",
    "    IV need to be at first 16 chars, password must be 32 chars long.\n",
    "    '''\n",
    "    try:\n",
    "      iv = txt[:AES256CBC._block_size]\n",
    "      encoded = txt[AES256CBC._block_size:]\n",
    "      encrypted = base64.b64decode(encoded)\n",
    "      \n",
    "      cipher = Cipher(algorithms.AES(password), modes.CBC(iv), backend=AES256CBC._backend)\n",
    "      decryptor = cipher.decryptor()\n",
    "      \n",
    "      decrypted = decryptor.update(encrypted) + decryptor.finalize()\n",
    "      return AES256CBC._remove_padding(decrypted)\n",
    "\n",
    "    except:\n",
    "      return None\n",
    "\n",
    "  @staticmethod\n",
    "  def _random_text(length):\n",
    "    try:\n",
    "      base_txt = \"1234567890abcdefghijklmnopqrstuvwxyzABCDEFGHIJKLMNOPQRSTUVWXYZ\"\n",
    "      txt = \"\"\n",
    "      for i in range(length):\n",
    "        txt += random.choice(base_txt)      \n",
    "      return txt\n",
    "\n",
    "    except:\n",
    "      return None\n",
    "  \n",
    "  @staticmethod\n",
    "  def generate_password():\n",
    "    '''\n",
    "    The password must be exactly 32 chars long for AES-256.\n",
    "    '''\n",
    "    return AES256CBC._random_text(32)\n",
    "\n",
    "  @staticmethod\n",
    "  def _add_padding(txt):\n",
    "    try:\n",
    "      count = AES256CBC._block_size - (len(txt) % AES256CBC._block_size)\n",
    "      return txt + ('\\0' * count)\n",
    "\n",
    "    except:\n",
    "      return txt\n",
    "  \n",
    "  @staticmethod\n",
    "  def _remove_padding(txt):\n",
    "    try:\n",
    "      return txt.strip('\\0\\x06')\n",
    "\n",
    "    except:\n",
    "      return txt\n",
    "\n"
   ]
  },
  {
   "cell_type": "code",
   "execution_count": 3,
   "metadata": {},
   "outputs": [
    {
     "name": "stdout",
     "output_type": "stream",
     "text": [
      "XzPvdqkpq6G5Itc2U28s4IFdE0GVN1EY\n",
      "Enter details : Coal ministry\n",
      "7VoGh2LzFM3kePGXsBOzRMRN4/psnna1sLsf2A==\n",
      "Enter password : XzPvdqkpq6G5Itc2U28s4IFdE0GVN1EY\n",
      "Enter encrypted key : 7VoGh2LzFM3kePGXsBOzRMRN4/psnna1sLsf2A==\n",
      "Coal ministry\n"
     ]
    }
   ],
   "source": [
    "if __name__ == \"__main__\":\n",
    "    password = AES256CBC.generate_password()\n",
    "    print(password)\n",
    "    assert len(password) == 32\n",
    "    \n",
    "    txt = raw_input(\"Enter details : \")\n",
    "    encrypted = AES256CBC.encrypt(txt, password)\n",
    "    print(encrypted)\n",
    "    decrypted = AES256CBC.decrypt(encrypted, password)\n",
    "    assert decrypted == txt\n",
    "    \n",
    "# for decryption\n",
    "\n",
    "    password = raw_input(\"Enter password : \")\n",
    "    encrypted = raw_input(\"Enter encrypted key : \")\n",
    "    decrypted = AES256CBC.decrypt(encrypted, password)\n",
    "    print(decrypted)\n"
   ]
  },
  {
   "cell_type": "code",
   "execution_count": null,
   "metadata": {},
   "outputs": [],
   "source": []
  },
  {
   "cell_type": "code",
   "execution_count": null,
   "metadata": {},
   "outputs": [],
   "source": []
  }
 ],
 "metadata": {
  "kernelspec": {
   "display_name": "Python 2",
   "language": "python",
   "name": "python2"
  },
  "language_info": {
   "codemirror_mode": {
    "name": "ipython",
    "version": 2
   },
   "file_extension": ".py",
   "mimetype": "text/x-python",
   "name": "python",
   "nbconvert_exporter": "python",
   "pygments_lexer": "ipython2",
   "version": "2.7.16"
  }
 },
 "nbformat": 4,
 "nbformat_minor": 2
}
